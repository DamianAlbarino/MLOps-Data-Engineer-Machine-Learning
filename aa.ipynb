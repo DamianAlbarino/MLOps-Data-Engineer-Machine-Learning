{
 "cells": [
  {
   "cell_type": "code",
   "execution_count": 86,
   "metadata": {},
   "outputs": [],
   "source": [
    "import pandas as pd\n",
    "import pickle\n",
    "import surprise"
   ]
  },
  {
   "cell_type": "code",
   "execution_count": 102,
   "metadata": {},
   "outputs": [],
   "source": [
    "usuario = 'aromortis'"
   ]
  },
  {
   "cell_type": "code",
   "execution_count": 108,
   "metadata": {},
   "outputs": [
    {
     "name": "stderr",
     "output_type": "stream",
     "text": [
      "C:\\Users\\Damian\\AppData\\Local\\Temp\\ipykernel_3572\\614592230.py:5: SettingWithCopyWarning: \n",
      "A value is trying to be set on a copy of a slice from a DataFrame\n",
      "\n",
      "See the caveats in the documentation: https://pandas.pydata.org/pandas-docs/stable/user_guide/indexing.html#returning-a-view-versus-a-copy\n",
      "  juegoYgenero.drop_duplicates(subset='item_name', inplace=True)\n",
      "C:\\Users\\Damian\\AppData\\Local\\Temp\\ipykernel_3572\\614592230.py:10: SettingWithCopyWarning: \n",
      "A value is trying to be set on a copy of a slice from a DataFrame\n",
      "\n",
      "See the caveats in the documentation: https://pandas.pydata.org/pandas-docs/stable/user_guide/indexing.html#returning-a-view-versus-a-copy\n",
      "  tieneUsuario.drop(columns=['user_id'], inplace=True)\n"
     ]
    },
    {
     "name": "stdout",
     "output_type": "stream",
     "text": [
      "VACIOOOOOOOOOOOOOOOOOOOOOOOOOOOOOOO\n"
     ]
    },
    {
     "data": {
      "text/plain": [
       "item_id\n",
       "219830           King Arthur's Gold\n",
       "331470           Everlasting Summer\n",
       "204450    Call of Juarez Gunslinger\n",
       "322500                     SUPERHOT\n",
       "250320            The Wolf Among Us\n",
       "Name: item_name, dtype: object"
      ]
     },
     "execution_count": 108,
     "metadata": {},
     "output_type": "execute_result"
    }
   ],
   "source": [
    "df = pd.read_json('ETL - EDA\\EDA\\EDA_Dataset.json.gz')\n",
    "\n",
    "juegoYgenero = df[['item_name','genres']]\n",
    "juegoYgenero.index = df['item_id']\n",
    "juegoYgenero.drop_duplicates(subset='item_name', inplace=True)\n",
    "\n",
    "df = df[['user_id','item_name','item_id']]\n",
    "\n",
    "tieneUsuario = df[df['user_id'] == usuario]\n",
    "tieneUsuario.drop(columns=['user_id'], inplace=True)\n",
    "tieneUsuario.reset_index(drop=True, inplace=True)\n",
    "\n",
    "if tieneUsuario.empty:\n",
    "    print('VACIOOOOOOOOOOOOOOOOOOOOOOOOOOOOOOO')\n",
    "\n",
    "juegos = df[['item_name','item_id']].copy()\n",
    "juegos.index = df['item_id']\n",
    "juegos.drop_duplicates(inplace=True)\n",
    "juegos.drop(tieneUsuario.item_id, inplace=True)\n",
    "\n",
    "with open('ML\\modeloDeRecomendacion.pkl', 'rb') as archivo:\n",
    "    modeloML = pickle.load(archivo)\n",
    "\n",
    "juegos['Clasificacion'] = juegos['item_name'].apply(lambda x: modeloML.predict(usuario, x).est)\n",
    "\n",
    "juegos.sort_values('Clasificacion', ascending=False).head(5)['item_name']"
   ]
  },
  {
   "cell_type": "code",
   "execution_count": 104,
   "metadata": {},
   "outputs": [
    {
     "data": {
      "text/html": [
       "<div>\n",
       "<style scoped>\n",
       "    .dataframe tbody tr th:only-of-type {\n",
       "        vertical-align: middle;\n",
       "    }\n",
       "\n",
       "    .dataframe tbody tr th {\n",
       "        vertical-align: top;\n",
       "    }\n",
       "\n",
       "    .dataframe thead th {\n",
       "        text-align: right;\n",
       "    }\n",
       "</style>\n",
       "<table border=\"1\" class=\"dataframe\">\n",
       "  <thead>\n",
       "    <tr style=\"text-align: right;\">\n",
       "      <th></th>\n",
       "      <th>item_name</th>\n",
       "      <th>item_id</th>\n",
       "    </tr>\n",
       "  </thead>\n",
       "  <tbody>\n",
       "  </tbody>\n",
       "</table>\n",
       "</div>"
      ],
      "text/plain": [
       "Empty DataFrame\n",
       "Columns: [item_name, item_id]\n",
       "Index: []"
      ]
     },
     "execution_count": 104,
     "metadata": {},
     "output_type": "execute_result"
    }
   ],
   "source": [
    "tieneUsuario"
   ]
  },
  {
   "cell_type": "code",
   "execution_count": 105,
   "metadata": {},
   "outputs": [
    {
     "data": {
      "text/html": [
       "<div>\n",
       "<style scoped>\n",
       "    .dataframe tbody tr th:only-of-type {\n",
       "        vertical-align: middle;\n",
       "    }\n",
       "\n",
       "    .dataframe tbody tr th {\n",
       "        vertical-align: top;\n",
       "    }\n",
       "\n",
       "    .dataframe thead th {\n",
       "        text-align: right;\n",
       "    }\n",
       "</style>\n",
       "<table border=\"1\" class=\"dataframe\">\n",
       "  <thead>\n",
       "    <tr style=\"text-align: right;\">\n",
       "      <th></th>\n",
       "      <th>item_name</th>\n",
       "      <th>genres</th>\n",
       "    </tr>\n",
       "    <tr>\n",
       "      <th>item_id</th>\n",
       "      <th></th>\n",
       "      <th></th>\n",
       "    </tr>\n",
       "  </thead>\n",
       "  <tbody>\n",
       "    <tr>\n",
       "      <th>331470</th>\n",
       "      <td>Everlasting Summer</td>\n",
       "      <td>[Adventure, Casual, Free to Play, Indie]</td>\n",
       "    </tr>\n",
       "  </tbody>\n",
       "</table>\n",
       "</div>"
      ],
      "text/plain": [
       "                  item_name                                    genres\n",
       "item_id                                                              \n",
       "331470   Everlasting Summer  [Adventure, Casual, Free to Play, Indie]"
      ]
     },
     "execution_count": 105,
     "metadata": {},
     "output_type": "execute_result"
    }
   ],
   "source": [
    "juegoYgenero[juegoYgenero['item_name'] == \"Everlasting Summer\"]"
   ]
  },
  {
   "cell_type": "code",
   "execution_count": 106,
   "metadata": {},
   "outputs": [
    {
     "data": {
      "text/plain": [
       "<bound method IndexOpsMixin.value_counts of 0                                      [Action]\n",
       "1                                      [Action]\n",
       "2                                      [Action]\n",
       "3                                      [Action]\n",
       "4                                      [Action]\n",
       "                          ...                  \n",
       "38948                [Action, Adventure, Indie]\n",
       "38949                                  [Action]\n",
       "38950                        [Adventure, Indie]\n",
       "38951                        [Adventure, Indie]\n",
       "38952    [Adventure, Casual, Indie, Simulation]\n",
       "Name: genres, Length: 38953, dtype: object>"
      ]
     },
     "execution_count": 106,
     "metadata": {},
     "output_type": "execute_result"
    }
   ],
   "source": [
    "df2 = pd.read_json('ETL - EDA\\EDA\\EDA_Dataset.json.gz')\n",
    "df2['genres'].value_counts"
   ]
  }
 ],
 "metadata": {
  "kernelspec": {
   "display_name": "Python 3",
   "language": "python",
   "name": "python3"
  },
  "language_info": {
   "codemirror_mode": {
    "name": "ipython",
    "version": 3
   },
   "file_extension": ".py",
   "mimetype": "text/x-python",
   "name": "python",
   "nbconvert_exporter": "python",
   "pygments_lexer": "ipython3",
   "version": "3.9.18"
  }
 },
 "nbformat": 4,
 "nbformat_minor": 2
}
