{
 "cells": [
  {
   "cell_type": "markdown",
   "metadata": {},
   "source": [
    "# Modelo de aprendizaje automático"
   ]
  },
  {
   "cell_type": "markdown",
   "metadata": {},
   "source": [
    "## Preparacion de los datos"
   ]
  },
  {
   "cell_type": "markdown",
   "metadata": {},
   "source": [
    "### Caragmos dataset"
   ]
  },
  {
   "cell_type": "code",
   "execution_count": 295,
   "metadata": {},
   "outputs": [
    {
     "data": {
      "text/html": [
       "<div>\n",
       "<style scoped>\n",
       "    .dataframe tbody tr th:only-of-type {\n",
       "        vertical-align: middle;\n",
       "    }\n",
       "\n",
       "    .dataframe tbody tr th {\n",
       "        vertical-align: top;\n",
       "    }\n",
       "\n",
       "    .dataframe thead th {\n",
       "        text-align: right;\n",
       "    }\n",
       "</style>\n",
       "<table border=\"1\" class=\"dataframe\">\n",
       "  <thead>\n",
       "    <tr style=\"text-align: right;\">\n",
       "      <th></th>\n",
       "      <th>user_id</th>\n",
       "      <th>item_id</th>\n",
       "      <th>recommend</th>\n",
       "      <th>sentiment_analysis</th>\n",
       "      <th>items_count</th>\n",
       "      <th>item_name</th>\n",
       "      <th>playtime_forever</th>\n",
       "      <th>genres</th>\n",
       "      <th>release_date</th>\n",
       "      <th>price</th>\n",
       "      <th>developer</th>\n",
       "    </tr>\n",
       "  </thead>\n",
       "  <tbody>\n",
       "    <tr>\n",
       "      <th>0</th>\n",
       "      <td>76561197970982479</td>\n",
       "      <td>1250</td>\n",
       "      <td>1</td>\n",
       "      <td>2</td>\n",
       "      <td>277</td>\n",
       "      <td>Killing Floor</td>\n",
       "      <td>10006</td>\n",
       "      <td>[Action]</td>\n",
       "      <td>2009</td>\n",
       "      <td>19.99</td>\n",
       "      <td>Tripwire Interactive</td>\n",
       "    </tr>\n",
       "    <tr>\n",
       "      <th>1</th>\n",
       "      <td>DJKamBer</td>\n",
       "      <td>1250</td>\n",
       "      <td>1</td>\n",
       "      <td>0</td>\n",
       "      <td>152</td>\n",
       "      <td>Killing Floor</td>\n",
       "      <td>2851</td>\n",
       "      <td>[Action]</td>\n",
       "      <td>2009</td>\n",
       "      <td>19.99</td>\n",
       "      <td>Tripwire Interactive</td>\n",
       "    </tr>\n",
       "    <tr>\n",
       "      <th>2</th>\n",
       "      <td>diego9031</td>\n",
       "      <td>1250</td>\n",
       "      <td>1</td>\n",
       "      <td>1</td>\n",
       "      <td>200</td>\n",
       "      <td>Killing Floor</td>\n",
       "      <td>1204</td>\n",
       "      <td>[Action]</td>\n",
       "      <td>2009</td>\n",
       "      <td>19.99</td>\n",
       "      <td>Tripwire Interactive</td>\n",
       "    </tr>\n",
       "    <tr>\n",
       "      <th>3</th>\n",
       "      <td>GamerFag</td>\n",
       "      <td>1250</td>\n",
       "      <td>1</td>\n",
       "      <td>2</td>\n",
       "      <td>64</td>\n",
       "      <td>Killing Floor</td>\n",
       "      <td>33723</td>\n",
       "      <td>[Action]</td>\n",
       "      <td>2009</td>\n",
       "      <td>19.99</td>\n",
       "      <td>Tripwire Interactive</td>\n",
       "    </tr>\n",
       "    <tr>\n",
       "      <th>4</th>\n",
       "      <td>76561198092227136</td>\n",
       "      <td>1250</td>\n",
       "      <td>1</td>\n",
       "      <td>1</td>\n",
       "      <td>333</td>\n",
       "      <td>Killing Floor</td>\n",
       "      <td>8694</td>\n",
       "      <td>[Action]</td>\n",
       "      <td>2009</td>\n",
       "      <td>19.99</td>\n",
       "      <td>Tripwire Interactive</td>\n",
       "    </tr>\n",
       "    <tr>\n",
       "      <th>...</th>\n",
       "      <td>...</td>\n",
       "      <td>...</td>\n",
       "      <td>...</td>\n",
       "      <td>...</td>\n",
       "      <td>...</td>\n",
       "      <td>...</td>\n",
       "      <td>...</td>\n",
       "      <td>...</td>\n",
       "      <td>...</td>\n",
       "      <td>...</td>\n",
       "      <td>...</td>\n",
       "    </tr>\n",
       "    <tr>\n",
       "      <th>38948</th>\n",
       "      <td>llDracuwulf</td>\n",
       "      <td>307130</td>\n",
       "      <td>1</td>\n",
       "      <td>1</td>\n",
       "      <td>14</td>\n",
       "      <td>Asteria</td>\n",
       "      <td>211</td>\n",
       "      <td>[Action, Adventure, Indie]</td>\n",
       "      <td>2014</td>\n",
       "      <td>4.99</td>\n",
       "      <td>Legend Studio</td>\n",
       "    </tr>\n",
       "    <tr>\n",
       "      <th>38949</th>\n",
       "      <td>ChrisCoroner</td>\n",
       "      <td>209120</td>\n",
       "      <td>1</td>\n",
       "      <td>2</td>\n",
       "      <td>8</td>\n",
       "      <td>Street Fighter X Tekken</td>\n",
       "      <td>298</td>\n",
       "      <td>[Action]</td>\n",
       "      <td>2012</td>\n",
       "      <td>29.99</td>\n",
       "      <td>Capcom U.S.A., Inc.</td>\n",
       "    </tr>\n",
       "    <tr>\n",
       "      <th>38950</th>\n",
       "      <td>MeloncraftLP</td>\n",
       "      <td>220090</td>\n",
       "      <td>1</td>\n",
       "      <td>1</td>\n",
       "      <td>45</td>\n",
       "      <td>The Journey Down: Chapter One</td>\n",
       "      <td>403</td>\n",
       "      <td>[Adventure, Indie]</td>\n",
       "      <td>2013</td>\n",
       "      <td>8.99</td>\n",
       "      <td>Skygoblin</td>\n",
       "    </tr>\n",
       "    <tr>\n",
       "      <th>38951</th>\n",
       "      <td>MeloncraftLP</td>\n",
       "      <td>262850</td>\n",
       "      <td>1</td>\n",
       "      <td>1</td>\n",
       "      <td>45</td>\n",
       "      <td>The Journey Down: Chapter Two</td>\n",
       "      <td>799</td>\n",
       "      <td>[Adventure, Indie]</td>\n",
       "      <td>2014</td>\n",
       "      <td>19.99</td>\n",
       "      <td>Skygoblin</td>\n",
       "    </tr>\n",
       "    <tr>\n",
       "      <th>38952</th>\n",
       "      <td>vinquility</td>\n",
       "      <td>431510</td>\n",
       "      <td>1</td>\n",
       "      <td>2</td>\n",
       "      <td>19</td>\n",
       "      <td>Mystic Destinies: Serendipity of Aeons</td>\n",
       "      <td>499</td>\n",
       "      <td>[Adventure, Casual, Indie, Simulation]</td>\n",
       "      <td>2016</td>\n",
       "      <td>0.00</td>\n",
       "      <td>Aeon Dream Studios</td>\n",
       "    </tr>\n",
       "  </tbody>\n",
       "</table>\n",
       "<p>38953 rows × 11 columns</p>\n",
       "</div>"
      ],
      "text/plain": [
       "                 user_id  item_id  recommend  sentiment_analysis  items_count  \\\n",
       "0      76561197970982479     1250          1                   2          277   \n",
       "1               DJKamBer     1250          1                   0          152   \n",
       "2              diego9031     1250          1                   1          200   \n",
       "3               GamerFag     1250          1                   2           64   \n",
       "4      76561198092227136     1250          1                   1          333   \n",
       "...                  ...      ...        ...                 ...          ...   \n",
       "38948        llDracuwulf   307130          1                   1           14   \n",
       "38949       ChrisCoroner   209120          1                   2            8   \n",
       "38950       MeloncraftLP   220090          1                   1           45   \n",
       "38951       MeloncraftLP   262850          1                   1           45   \n",
       "38952         vinquility   431510          1                   2           19   \n",
       "\n",
       "                                    item_name  playtime_forever  \\\n",
       "0                               Killing Floor             10006   \n",
       "1                               Killing Floor              2851   \n",
       "2                               Killing Floor              1204   \n",
       "3                               Killing Floor             33723   \n",
       "4                               Killing Floor              8694   \n",
       "...                                       ...               ...   \n",
       "38948                                 Asteria               211   \n",
       "38949                 Street Fighter X Tekken               298   \n",
       "38950           The Journey Down: Chapter One               403   \n",
       "38951           The Journey Down: Chapter Two               799   \n",
       "38952  Mystic Destinies: Serendipity of Aeons               499   \n",
       "\n",
       "                                       genres  release_date  price  \\\n",
       "0                                    [Action]          2009  19.99   \n",
       "1                                    [Action]          2009  19.99   \n",
       "2                                    [Action]          2009  19.99   \n",
       "3                                    [Action]          2009  19.99   \n",
       "4                                    [Action]          2009  19.99   \n",
       "...                                       ...           ...    ...   \n",
       "38948              [Action, Adventure, Indie]          2014   4.99   \n",
       "38949                                [Action]          2012  29.99   \n",
       "38950                      [Adventure, Indie]          2013   8.99   \n",
       "38951                      [Adventure, Indie]          2014  19.99   \n",
       "38952  [Adventure, Casual, Indie, Simulation]          2016   0.00   \n",
       "\n",
       "                  developer  \n",
       "0      Tripwire Interactive  \n",
       "1      Tripwire Interactive  \n",
       "2      Tripwire Interactive  \n",
       "3      Tripwire Interactive  \n",
       "4      Tripwire Interactive  \n",
       "...                     ...  \n",
       "38948         Legend Studio  \n",
       "38949   Capcom U.S.A., Inc.  \n",
       "38950             Skygoblin  \n",
       "38951             Skygoblin  \n",
       "38952    Aeon Dream Studios  \n",
       "\n",
       "[38953 rows x 11 columns]"
      ]
     },
     "execution_count": 295,
     "metadata": {},
     "output_type": "execute_result"
    }
   ],
   "source": [
    "import pandas as pd\n",
    "df = pd.read_json('../ETL - EDA/EDA/EDA_Dataset.json.gz')\n",
    "df"
   ]
  },
  {
   "cell_type": "markdown",
   "metadata": {},
   "source": [
    "### Nos quedamos con las columnas necesarias"
   ]
  },
  {
   "cell_type": "code",
   "execution_count": 297,
   "metadata": {},
   "outputs": [
    {
     "data": {
      "text/html": [
       "<div>\n",
       "<style scoped>\n",
       "    .dataframe tbody tr th:only-of-type {\n",
       "        vertical-align: middle;\n",
       "    }\n",
       "\n",
       "    .dataframe tbody tr th {\n",
       "        vertical-align: top;\n",
       "    }\n",
       "\n",
       "    .dataframe thead th {\n",
       "        text-align: right;\n",
       "    }\n",
       "</style>\n",
       "<table border=\"1\" class=\"dataframe\">\n",
       "  <thead>\n",
       "    <tr style=\"text-align: right;\">\n",
       "      <th></th>\n",
       "      <th>user_id</th>\n",
       "      <th>recommend</th>\n",
       "      <th>sentiment_analysis</th>\n",
       "      <th>item_name</th>\n",
       "      <th>item_id</th>\n",
       "    </tr>\n",
       "  </thead>\n",
       "  <tbody>\n",
       "    <tr>\n",
       "      <th>0</th>\n",
       "      <td>76561197970982479</td>\n",
       "      <td>1</td>\n",
       "      <td>2</td>\n",
       "      <td>Killing Floor</td>\n",
       "      <td>1250</td>\n",
       "    </tr>\n",
       "    <tr>\n",
       "      <th>1</th>\n",
       "      <td>DJKamBer</td>\n",
       "      <td>1</td>\n",
       "      <td>0</td>\n",
       "      <td>Killing Floor</td>\n",
       "      <td>1250</td>\n",
       "    </tr>\n",
       "    <tr>\n",
       "      <th>2</th>\n",
       "      <td>diego9031</td>\n",
       "      <td>1</td>\n",
       "      <td>1</td>\n",
       "      <td>Killing Floor</td>\n",
       "      <td>1250</td>\n",
       "    </tr>\n",
       "    <tr>\n",
       "      <th>3</th>\n",
       "      <td>GamerFag</td>\n",
       "      <td>1</td>\n",
       "      <td>2</td>\n",
       "      <td>Killing Floor</td>\n",
       "      <td>1250</td>\n",
       "    </tr>\n",
       "    <tr>\n",
       "      <th>4</th>\n",
       "      <td>76561198092227136</td>\n",
       "      <td>1</td>\n",
       "      <td>1</td>\n",
       "      <td>Killing Floor</td>\n",
       "      <td>1250</td>\n",
       "    </tr>\n",
       "    <tr>\n",
       "      <th>...</th>\n",
       "      <td>...</td>\n",
       "      <td>...</td>\n",
       "      <td>...</td>\n",
       "      <td>...</td>\n",
       "      <td>...</td>\n",
       "    </tr>\n",
       "    <tr>\n",
       "      <th>38948</th>\n",
       "      <td>llDracuwulf</td>\n",
       "      <td>1</td>\n",
       "      <td>1</td>\n",
       "      <td>Asteria</td>\n",
       "      <td>307130</td>\n",
       "    </tr>\n",
       "    <tr>\n",
       "      <th>38949</th>\n",
       "      <td>ChrisCoroner</td>\n",
       "      <td>1</td>\n",
       "      <td>2</td>\n",
       "      <td>Street Fighter X Tekken</td>\n",
       "      <td>209120</td>\n",
       "    </tr>\n",
       "    <tr>\n",
       "      <th>38950</th>\n",
       "      <td>MeloncraftLP</td>\n",
       "      <td>1</td>\n",
       "      <td>1</td>\n",
       "      <td>The Journey Down: Chapter One</td>\n",
       "      <td>220090</td>\n",
       "    </tr>\n",
       "    <tr>\n",
       "      <th>38951</th>\n",
       "      <td>MeloncraftLP</td>\n",
       "      <td>1</td>\n",
       "      <td>1</td>\n",
       "      <td>The Journey Down: Chapter Two</td>\n",
       "      <td>262850</td>\n",
       "    </tr>\n",
       "    <tr>\n",
       "      <th>38952</th>\n",
       "      <td>vinquility</td>\n",
       "      <td>1</td>\n",
       "      <td>2</td>\n",
       "      <td>Mystic Destinies: Serendipity of Aeons</td>\n",
       "      <td>431510</td>\n",
       "    </tr>\n",
       "  </tbody>\n",
       "</table>\n",
       "<p>38953 rows × 5 columns</p>\n",
       "</div>"
      ],
      "text/plain": [
       "                 user_id  recommend  sentiment_analysis  \\\n",
       "0      76561197970982479          1                   2   \n",
       "1               DJKamBer          1                   0   \n",
       "2              diego9031          1                   1   \n",
       "3               GamerFag          1                   2   \n",
       "4      76561198092227136          1                   1   \n",
       "...                  ...        ...                 ...   \n",
       "38948        llDracuwulf          1                   1   \n",
       "38949       ChrisCoroner          1                   2   \n",
       "38950       MeloncraftLP          1                   1   \n",
       "38951       MeloncraftLP          1                   1   \n",
       "38952         vinquility          1                   2   \n",
       "\n",
       "                                    item_name  item_id  \n",
       "0                               Killing Floor     1250  \n",
       "1                               Killing Floor     1250  \n",
       "2                               Killing Floor     1250  \n",
       "3                               Killing Floor     1250  \n",
       "4                               Killing Floor     1250  \n",
       "...                                       ...      ...  \n",
       "38948                                 Asteria   307130  \n",
       "38949                 Street Fighter X Tekken   209120  \n",
       "38950           The Journey Down: Chapter One   220090  \n",
       "38951           The Journey Down: Chapter Two   262850  \n",
       "38952  Mystic Destinies: Serendipity of Aeons   431510  \n",
       "\n",
       "[38953 rows x 5 columns]"
      ]
     },
     "execution_count": 297,
     "metadata": {},
     "output_type": "execute_result"
    }
   ],
   "source": [
    "df = df[['user_id','recommend','sentiment_analysis','item_name','item_id']]\n",
    "df"
   ]
  },
  {
   "cell_type": "markdown",
   "metadata": {},
   "source": [
    "### Generamos la clasificacion necesaria para el modelo"
   ]
  },
  {
   "cell_type": "code",
   "execution_count": null,
   "metadata": {},
   "outputs": [],
   "source": [
    "# Creamos una clasificacion para el modelo\n",
    "df['Calificacion'] = df[['recommend','sentiment_analysis']].sum(axis=1)"
   ]
  },
  {
   "cell_type": "markdown",
   "metadata": {},
   "source": [
    "##### Dropeamos las columnas que ya estan expresadas en Clasificacion"
   ]
  },
  {
   "cell_type": "code",
   "execution_count": null,
   "metadata": {},
   "outputs": [],
   "source": [
    "df.drop(columns=['recommend', 'sentiment_analysis'], inplace=True)\n",
    "df_ML = df.drop(columns='item_id')"
   ]
  },
  {
   "cell_type": "markdown",
   "metadata": {},
   "source": [
    "##### Verificamos que el datagframe este bien para aplicarlo en el modelo"
   ]
  },
  {
   "cell_type": "code",
   "execution_count": 300,
   "metadata": {},
   "outputs": [
    {
     "data": {
      "text/html": [
       "<div>\n",
       "<style scoped>\n",
       "    .dataframe tbody tr th:only-of-type {\n",
       "        vertical-align: middle;\n",
       "    }\n",
       "\n",
       "    .dataframe tbody tr th {\n",
       "        vertical-align: top;\n",
       "    }\n",
       "\n",
       "    .dataframe thead th {\n",
       "        text-align: right;\n",
       "    }\n",
       "</style>\n",
       "<table border=\"1\" class=\"dataframe\">\n",
       "  <thead>\n",
       "    <tr style=\"text-align: right;\">\n",
       "      <th></th>\n",
       "      <th>user_id</th>\n",
       "      <th>item_name</th>\n",
       "      <th>Calificacion</th>\n",
       "    </tr>\n",
       "  </thead>\n",
       "  <tbody>\n",
       "    <tr>\n",
       "      <th>0</th>\n",
       "      <td>76561197970982479</td>\n",
       "      <td>Killing Floor</td>\n",
       "      <td>3</td>\n",
       "    </tr>\n",
       "    <tr>\n",
       "      <th>1</th>\n",
       "      <td>DJKamBer</td>\n",
       "      <td>Killing Floor</td>\n",
       "      <td>1</td>\n",
       "    </tr>\n",
       "    <tr>\n",
       "      <th>2</th>\n",
       "      <td>diego9031</td>\n",
       "      <td>Killing Floor</td>\n",
       "      <td>2</td>\n",
       "    </tr>\n",
       "    <tr>\n",
       "      <th>3</th>\n",
       "      <td>GamerFag</td>\n",
       "      <td>Killing Floor</td>\n",
       "      <td>3</td>\n",
       "    </tr>\n",
       "    <tr>\n",
       "      <th>4</th>\n",
       "      <td>76561198092227136</td>\n",
       "      <td>Killing Floor</td>\n",
       "      <td>2</td>\n",
       "    </tr>\n",
       "    <tr>\n",
       "      <th>...</th>\n",
       "      <td>...</td>\n",
       "      <td>...</td>\n",
       "      <td>...</td>\n",
       "    </tr>\n",
       "    <tr>\n",
       "      <th>38948</th>\n",
       "      <td>llDracuwulf</td>\n",
       "      <td>Asteria</td>\n",
       "      <td>2</td>\n",
       "    </tr>\n",
       "    <tr>\n",
       "      <th>38949</th>\n",
       "      <td>ChrisCoroner</td>\n",
       "      <td>Street Fighter X Tekken</td>\n",
       "      <td>3</td>\n",
       "    </tr>\n",
       "    <tr>\n",
       "      <th>38950</th>\n",
       "      <td>MeloncraftLP</td>\n",
       "      <td>The Journey Down: Chapter One</td>\n",
       "      <td>2</td>\n",
       "    </tr>\n",
       "    <tr>\n",
       "      <th>38951</th>\n",
       "      <td>MeloncraftLP</td>\n",
       "      <td>The Journey Down: Chapter Two</td>\n",
       "      <td>2</td>\n",
       "    </tr>\n",
       "    <tr>\n",
       "      <th>38952</th>\n",
       "      <td>vinquility</td>\n",
       "      <td>Mystic Destinies: Serendipity of Aeons</td>\n",
       "      <td>3</td>\n",
       "    </tr>\n",
       "  </tbody>\n",
       "</table>\n",
       "<p>38953 rows × 3 columns</p>\n",
       "</div>"
      ],
      "text/plain": [
       "                 user_id                               item_name  Calificacion\n",
       "0      76561197970982479                           Killing Floor             3\n",
       "1               DJKamBer                           Killing Floor             1\n",
       "2              diego9031                           Killing Floor             2\n",
       "3               GamerFag                           Killing Floor             3\n",
       "4      76561198092227136                           Killing Floor             2\n",
       "...                  ...                                     ...           ...\n",
       "38948        llDracuwulf                                 Asteria             2\n",
       "38949       ChrisCoroner                 Street Fighter X Tekken             3\n",
       "38950       MeloncraftLP           The Journey Down: Chapter One             2\n",
       "38951       MeloncraftLP           The Journey Down: Chapter Two             2\n",
       "38952         vinquility  Mystic Destinies: Serendipity of Aeons             3\n",
       "\n",
       "[38953 rows x 3 columns]"
      ]
     },
     "execution_count": 300,
     "metadata": {},
     "output_type": "execute_result"
    }
   ],
   "source": [
    "df_ML"
   ]
  },
  {
   "cell_type": "markdown",
   "metadata": {},
   "source": [
    "## Creacion del modelo"
   ]
  },
  {
   "cell_type": "code",
   "execution_count": 301,
   "metadata": {},
   "outputs": [],
   "source": [
    "from surprise import SVD\n",
    "from surprise import accuracy\n",
    "from surprise import Dataset\n",
    "from surprise import Reader\n",
    "from surprise.model_selection import train_test_split"
   ]
  },
  {
   "cell_type": "code",
   "execution_count": 302,
   "metadata": {},
   "outputs": [],
   "source": [
    "# Creamos la escala\n",
    "Escala_Clasificacion = Reader(rating_scale=(0,3))"
   ]
  },
  {
   "cell_type": "code",
   "execution_count": 303,
   "metadata": {},
   "outputs": [],
   "source": [
    "# Cargamos el dataset que vamos a usar\n",
    "data = Dataset.load_from_df(df_ML, Escala_Clasificacion)\n",
    "\n",
    "# Separamos el dataset en datos de entranamiento y datos de testeo\n",
    "trainset, testset = train_test_split(data, test_size=0.3)"
   ]
  },
  {
   "cell_type": "markdown",
   "metadata": {},
   "source": [
    "### Usare el modelo de Singular Value Decomposition"
   ]
  },
  {
   "cell_type": "code",
   "execution_count": 304,
   "metadata": {},
   "outputs": [],
   "source": [
    "modeloML = SVD(n_factors= 4, n_epochs=20, lr_all=0.005, reg_all=0.2)"
   ]
  },
  {
   "cell_type": "code",
   "execution_count": 305,
   "metadata": {},
   "outputs": [],
   "source": [
    "# Entrenamos el modelo\n",
    "modeloML.fit(trainset)\n",
    "\n",
    "#Guardamos el modelo entrenado para posteriormente guardarlo en un archivo.\n",
    "ModeloEntrenado = modeloML.fit(trainset)"
   ]
  },
  {
   "cell_type": "code",
   "execution_count": null,
   "metadata": {},
   "outputs": [],
   "source": [
    "# Predecimos\n",
    "predictions = modeloML.test(testset)"
   ]
  },
  {
   "cell_type": "markdown",
   "metadata": {},
   "source": [
    "## Evaluacion"
   ]
  },
  {
   "cell_type": "code",
   "execution_count": 314,
   "metadata": {},
   "outputs": [
    {
     "name": "stdout",
     "output_type": "stream",
     "text": [
      "RMSE: 0.7401\n"
     ]
    },
    {
     "data": {
      "text/plain": [
       "0.7401375807822166"
      ]
     },
     "execution_count": 314,
     "metadata": {},
     "output_type": "execute_result"
    }
   ],
   "source": [
    "from surprise import accuracy\n",
    "\n",
    "accuracy.rmse(predictions)"
   ]
  },
  {
   "cell_type": "markdown",
   "metadata": {},
   "source": [
    "## Optimizacion de hiperparametros"
   ]
  },
  {
   "cell_type": "code",
   "execution_count": 64,
   "metadata": {},
   "outputs": [
    {
     "name": "stdout",
     "output_type": "stream",
     "text": [
      "1\n",
      "Evaluating RMSE of algorithm SVD on 3 split(s).\n",
      "\n",
      "                  Fold 1  Fold 2  Fold 3  Mean    Std     \n",
      "RMSE (testset)    0.7425  0.7405  0.7479  0.7436  0.0031  \n",
      "Fit time          0.16    0.15    0.18    0.16    0.01    \n",
      "Test time         0.08    0.13    0.06    0.09    0.03    \n",
      "2\n",
      "Evaluating RMSE of algorithm SVD on 3 split(s).\n",
      "\n",
      "                  Fold 1  Fold 2  Fold 3  Mean    Std     \n",
      "RMSE (testset)    0.7402  0.7423  0.7526  0.7451  0.0054  \n",
      "Fit time          0.15    0.15    0.17    0.16    0.01    \n",
      "Test time         0.06    0.14    0.06    0.09    0.04    \n",
      "4\n",
      "Evaluating RMSE of algorithm SVD on 3 split(s).\n",
      "\n",
      "                  Fold 1  Fold 2  Fold 3  Mean    Std     \n",
      "RMSE (testset)    0.7473  0.7439  0.7422  0.7445  0.0021  \n",
      "Fit time          0.17    0.16    0.16    0.16    0.00    \n",
      "Test time         0.06    0.06    0.06    0.06    0.00    \n",
      "8\n",
      "Evaluating RMSE of algorithm SVD on 3 split(s).\n",
      "\n",
      "                  Fold 1  Fold 2  Fold 3  Mean    Std     \n",
      "RMSE (testset)    0.7471  0.7402  0.7464  0.7446  0.0031  \n",
      "Fit time          0.17    0.16    0.17    0.17    0.00    \n",
      "Test time         0.06    0.06    0.06    0.06    0.00    \n",
      "16\n",
      "Evaluating RMSE of algorithm SVD on 3 split(s).\n",
      "\n",
      "                  Fold 1  Fold 2  Fold 3  Mean    Std     \n",
      "RMSE (testset)    0.7536  0.7381  0.7445  0.7454  0.0063  \n",
      "Fit time          0.20    0.18    0.18    0.19    0.01    \n",
      "Test time         0.14    0.06    0.06    0.09    0.04    \n",
      "32\n",
      "Evaluating RMSE of algorithm SVD on 3 split(s).\n",
      "\n",
      "                  Fold 1  Fold 2  Fold 3  Mean    Std     \n",
      "RMSE (testset)    0.7472  0.7430  0.7446  0.7450  0.0017  \n",
      "Fit time          0.20    0.20    0.24    0.21    0.02    \n",
      "Test time         0.14    0.06    0.06    0.08    0.04    \n"
     ]
    }
   ],
   "source": [
    "from surprise.model_selection import cross_validate\n",
    "import numpy as np\n",
    "\n",
    "rmse_test_means = []\n",
    "factores = [1,2,4,8,16,32]\n",
    "\n",
    "for factor in factores:\n",
    "    print(factor)\n",
    "    model = SVD(n_factors=factor)\n",
    "    cv = cross_validate(model, data, measures=['RMSE'], cv = 3, verbose=True)\n",
    "    rmse_test_means.append(np.mean(cv['test_rmse']))"
   ]
  },
  {
   "cell_type": "code",
   "execution_count": 65,
   "metadata": {},
   "outputs": [
    {
     "data": {
      "image/png": "[encoded data removed]",
      "text/plain": [
       "<Figure size 640x480 with 1 Axes>"
      ]
     },
     "metadata": {},
     "output_type": "display_data"
    }
   ],
   "source": [
    "import matplotlib.pyplot as plt\n",
    "# Ploteamos desempeño según cantidad de factores de SVD\n",
    "\n",
    "plt.scatter(factores, rmse_test_means)\n",
    "plt.xlabel('Numero de factores')\n",
    "plt.ylabel('Error RMSE')\n",
    "plt.show()"
   ]
  },
  {
   "cell_type": "code",
   "execution_count": 66,
   "metadata": {},
   "outputs": [],
   "source": [
    "from surprise.model_selection import GridSearchCV\n",
    "\n",
    "param_grid = {'n_factors': [1,2,4,8,16,32],'n_epochs': [5, 10,20], 'lr_all': [0.001, 0.002, 0.005],\n",
    "              'reg_all': [0.002, 0.02, 0.2]}\n",
    "gs = GridSearchCV(SVD, param_grid, measures=['rmse'], cv=3, n_jobs = -1)\n",
    "gs.fit(data)"
   ]
  },
  {
   "cell_type": "code",
   "execution_count": 67,
   "metadata": {},
   "outputs": [
    {
     "name": "stdout",
     "output_type": "stream",
     "text": [
      "0.7439823571903766\n",
      "{'n_factors': 4, 'n_epochs': 20, 'lr_all': 0.005, 'reg_all': 0.2}\n"
     ]
    }
   ],
   "source": [
    "# Observamos performance del mejor modelo\n",
    "print(gs.best_score['rmse'])\n",
    "print(gs.best_params['rmse'])\n",
    "\n",
    "#Ya agregado en un principio"
   ]
  },
  {
   "cell_type": "markdown",
   "metadata": {},
   "source": [
    "## Guardamos el modelo para la API"
   ]
  },
  {
   "cell_type": "code",
   "execution_count": 315,
   "metadata": {},
   "outputs": [],
   "source": [
    "import pickle\n",
    "# Guardar el modelo en un archivo\n",
    "with open('modeloDeRecomendacion.pkl', 'wb') as archivo:\n",
    "    pickle.dump(ModeloEntrenado, archivo)"
   ]
  }
 ],
 "metadata": {
  "kernelspec": {
   "display_name": "Python 3",
   "language": "python",
   "name": "python3"
  },
  "language_info": {
   "codemirror_mode": {
    "name": "ipython",
    "version": 3
   },
   "file_extension": ".py",
   "mimetype": "text/x-python",
   "name": "python",
   "nbconvert_exporter": "python",
   "pygments_lexer": "ipython3",
   "version": "3.9.18"
  }
 },
 "nbformat": 4,
 "nbformat_minor": 2
}
