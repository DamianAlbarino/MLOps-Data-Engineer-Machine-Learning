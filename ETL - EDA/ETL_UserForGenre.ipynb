{
 "cells": [
  {
   "cell_type": "markdown",
   "metadata": {},
   "source": [
    "# ETL para dataset especifico para la funcion UserForGenre"
   ]
  },
  {
   "cell_type": "code",
   "execution_count": 4,
   "metadata": {},
   "outputs": [],
   "source": [
    "import pandas as pd\n",
    "import pyarrow.parquet as pq"
   ]
  },
  {
   "cell_type": "markdown",
   "metadata": {},
   "source": [
    "### Cargamos los Datasets"
   ]
  },
  {
   "cell_type": "code",
   "execution_count": 5,
   "metadata": {},
   "outputs": [],
   "source": [
    "steam = pd.read_json('../Datasets/Steam_Games_Limpio.json.gz', compression='gzip')\n",
    "review = pd.read_json('../Datasets/User_Reviews_Limpio.json.gz', compression='gzip')\n",
    "items = pq.read_table('Datasets OPS/items.parquet').to_pandas()"
   ]
  },
  {
   "cell_type": "markdown",
   "metadata": {},
   "source": [
    "#### Nos quedamos con la columna necesaria"
   ]
  },
  {
   "cell_type": "code",
   "execution_count": 6,
   "metadata": {},
   "outputs": [],
   "source": [
    "generosAVer = steam['genres']"
   ]
  },
  {
   "cell_type": "markdown",
   "metadata": {},
   "source": [
    "#### Guardamos en listaDeGeneros todos los generos que existen en el dataset"
   ]
  },
  {
   "cell_type": "code",
   "execution_count": 7,
   "metadata": {},
   "outputs": [],
   "source": [
    "listaDeGeneros = []\n",
    "for linea in generosAVer:\n",
    "  for i in linea:\n",
    "    if i not in listaDeGeneros:\n",
    "      listaDeGeneros.append(i)\n",
    "\n",
    "generos = {'genero':listaDeGeneros}\n",
    "df = pd.DataFrame(generos)\n",
    "df[['usuario','Horas jugadas']] = None"
   ]
  },
  {
   "cell_type": "markdown",
   "metadata": {},
   "source": [
    "#### Vemos los items de todos los usuarios"
   ]
  },
  {
   "cell_type": "code",
   "execution_count": 8,
   "metadata": {},
   "outputs": [],
   "source": [
    "user_items = items # o pd.read_json('API/Datasets/items.json') \n",
    "itemsDeUsuario = items.explode('items')\n",
    "userID = itemsDeUsuario['user_id']\n",
    "itemsDeUsuario = pd.json_normalize(itemsDeUsuario['items'])\n",
    "itemsDeUsuario['user_id'] = list(userID)\n",
    "itemsDeUsuario.drop(columns=['playtime_2weeks','item_name'], inplace=True)\n",
    "itemsDeUsuario.dropna(subset='item_id', inplace=True)"
   ]
  },
  {
   "cell_type": "markdown",
   "metadata": {},
   "source": [
    "#### Unimos los items de todos los usuarios con los que tenemos informacion en el dataset de steamgames"
   ]
  },
  {
   "cell_type": "code",
   "execution_count": 9,
   "metadata": {},
   "outputs": [
    {
     "data": {
      "text/html": [
       "<div>\n",
       "<style scoped>\n",
       "    .dataframe tbody tr th:only-of-type {\n",
       "        vertical-align: middle;\n",
       "    }\n",
       "\n",
       "    .dataframe tbody tr th {\n",
       "        vertical-align: top;\n",
       "    }\n",
       "\n",
       "    .dataframe thead th {\n",
       "        text-align: right;\n",
       "    }\n",
       "</style>\n",
       "<table border=\"1\" class=\"dataframe\">\n",
       "  <thead>\n",
       "    <tr style=\"text-align: right;\">\n",
       "      <th></th>\n",
       "      <th>item_id</th>\n",
       "      <th>playtime_forever</th>\n",
       "      <th>user_id</th>\n",
       "      <th>id</th>\n",
       "      <th>genres</th>\n",
       "      <th>release_date</th>\n",
       "    </tr>\n",
       "  </thead>\n",
       "  <tbody>\n",
       "    <tr>\n",
       "      <th>0</th>\n",
       "      <td>10</td>\n",
       "      <td>6.0</td>\n",
       "      <td>76561197970982479</td>\n",
       "      <td>10</td>\n",
       "      <td>[Action]</td>\n",
       "      <td>2000</td>\n",
       "    </tr>\n",
       "    <tr>\n",
       "      <th>1</th>\n",
       "      <td>10</td>\n",
       "      <td>0.0</td>\n",
       "      <td>js41637</td>\n",
       "      <td>10</td>\n",
       "      <td>[Action]</td>\n",
       "      <td>2000</td>\n",
       "    </tr>\n",
       "    <tr>\n",
       "      <th>2</th>\n",
       "      <td>10</td>\n",
       "      <td>0.0</td>\n",
       "      <td>Riot-Punch</td>\n",
       "      <td>10</td>\n",
       "      <td>[Action]</td>\n",
       "      <td>2000</td>\n",
       "    </tr>\n",
       "    <tr>\n",
       "      <th>3</th>\n",
       "      <td>10</td>\n",
       "      <td>93.0</td>\n",
       "      <td>doctr</td>\n",
       "      <td>10</td>\n",
       "      <td>[Action]</td>\n",
       "      <td>2000</td>\n",
       "    </tr>\n",
       "    <tr>\n",
       "      <th>4</th>\n",
       "      <td>10</td>\n",
       "      <td>108.0</td>\n",
       "      <td>corrupted_soul</td>\n",
       "      <td>10</td>\n",
       "      <td>[Action]</td>\n",
       "      <td>2000</td>\n",
       "    </tr>\n",
       "    <tr>\n",
       "      <th>...</th>\n",
       "      <td>...</td>\n",
       "      <td>...</td>\n",
       "      <td>...</td>\n",
       "      <td>...</td>\n",
       "      <td>...</td>\n",
       "      <td>...</td>\n",
       "    </tr>\n",
       "    <tr>\n",
       "      <th>4186243</th>\n",
       "      <td>456780</td>\n",
       "      <td>6.0</td>\n",
       "      <td>peter1023199</td>\n",
       "      <td>456780</td>\n",
       "      <td>[Racing, Simulation, Sports]</td>\n",
       "      <td>2016</td>\n",
       "    </tr>\n",
       "    <tr>\n",
       "      <th>4186244</th>\n",
       "      <td>444770</td>\n",
       "      <td>46.0</td>\n",
       "      <td>76561198071808318</td>\n",
       "      <td>444770</td>\n",
       "      <td>[Adventure, Indie]</td>\n",
       "      <td>2016</td>\n",
       "    </tr>\n",
       "    <tr>\n",
       "      <th>4186245</th>\n",
       "      <td>375450</td>\n",
       "      <td>51.0</td>\n",
       "      <td>76561198081168593</td>\n",
       "      <td>375450</td>\n",
       "      <td>[Strategy]</td>\n",
       "      <td>2016</td>\n",
       "    </tr>\n",
       "    <tr>\n",
       "      <th>4186246</th>\n",
       "      <td>354280</td>\n",
       "      <td>164.0</td>\n",
       "      <td>76561198107283457</td>\n",
       "      <td>354280</td>\n",
       "      <td>[Action, Casual, Indie, Simulation]</td>\n",
       "      <td>2016</td>\n",
       "    </tr>\n",
       "    <tr>\n",
       "      <th>4186247</th>\n",
       "      <td>433920</td>\n",
       "      <td>0.0</td>\n",
       "      <td>inven</td>\n",
       "      <td>433920</td>\n",
       "      <td>[Adventure, Indie, RPG]</td>\n",
       "      <td>2016</td>\n",
       "    </tr>\n",
       "  </tbody>\n",
       "</table>\n",
       "<p>4186248 rows × 6 columns</p>\n",
       "</div>"
      ],
      "text/plain": [
       "         item_id  playtime_forever            user_id      id  \\\n",
       "0             10               6.0  76561197970982479      10   \n",
       "1             10               0.0            js41637      10   \n",
       "2             10               0.0         Riot-Punch      10   \n",
       "3             10              93.0              doctr      10   \n",
       "4             10             108.0     corrupted_soul      10   \n",
       "...          ...               ...                ...     ...   \n",
       "4186243   456780               6.0       peter1023199  456780   \n",
       "4186244   444770              46.0  76561198071808318  444770   \n",
       "4186245   375450              51.0  76561198081168593  375450   \n",
       "4186246   354280             164.0  76561198107283457  354280   \n",
       "4186247   433920               0.0              inven  433920   \n",
       "\n",
       "                                      genres  release_date  \n",
       "0                                   [Action]          2000  \n",
       "1                                   [Action]          2000  \n",
       "2                                   [Action]          2000  \n",
       "3                                   [Action]          2000  \n",
       "4                                   [Action]          2000  \n",
       "...                                      ...           ...  \n",
       "4186243         [Racing, Simulation, Sports]          2016  \n",
       "4186244                   [Adventure, Indie]          2016  \n",
       "4186245                           [Strategy]          2016  \n",
       "4186246  [Action, Casual, Indie, Simulation]          2016  \n",
       "4186247              [Adventure, Indie, RPG]          2016  \n",
       "\n",
       "[4186248 rows x 6 columns]"
      ]
     },
     "execution_count": 9,
     "metadata": {},
     "output_type": "execute_result"
    }
   ],
   "source": [
    "itemsDeUsuario['item_id'] = itemsDeUsuario['item_id'].astype(int)\n",
    "itemsDeUsuario = itemsDeUsuario.merge(steam[['id','genres','release_date']], left_on='item_id', right_on='id')\n",
    "itemsDeUsuario"
   ]
  },
  {
   "cell_type": "markdown",
   "metadata": {},
   "source": [
    "#### Calculamos por genero cual es el usuario que mas jugo a tal genero, y la cantidad de horas por año de lanzamiento del juego que tuvo"
   ]
  },
  {
   "cell_type": "code",
   "execution_count": 10,
   "metadata": {},
   "outputs": [],
   "source": [
    "for i in df['genero'].values:\n",
    "    genero = i\n",
    "\n",
    "    #Juegos del genero pedido\n",
    "    mascara = itemsDeUsuario['genres'].apply(lambda x: genero in x)\n",
    "\n",
    "    #Calcular las horas que tiene un usuario con juegos del genero\n",
    "    sumaDehoras = itemsDeUsuario[mascara].groupby('user_id')['playtime_forever'].sum().sort_values(ascending=False)\n",
    "    \n",
    "    if not sumaDehoras.empty:\n",
    "        usuario = sumaDehoras.head(1).index[0]\n",
    "    else:\n",
    "        usuario = None\n",
    "\n",
    "    df.loc[df['genero'] == genero, 'usuario'] = usuario\n",
    "\n",
    "    aniosYhoras = itemsDeUsuario[(itemsDeUsuario['user_id'] == usuario) & mascara].groupby('release_date')['playtime_forever'].sum()\n",
    "    anio = aniosYhoras.index\n",
    "    horasJugadas = {}\n",
    "    for horas, anio in enumerate(anio):\n",
    "        horasJugadas[f'Año {anio}'] = f'Horas: {aniosYhoras.iloc[horas]}'\n",
    "\n",
    "    df.loc[df['genero'] == genero, 'Horas jugadas'] = [horasJugadas]\n"
   ]
  },
  {
   "cell_type": "markdown",
   "metadata": {},
   "source": [
    "#### Hacemos unos ultimos retoques en el data set para exportarlo y poder utilizarlo en la funcion"
   ]
  },
  {
   "cell_type": "code",
   "execution_count": 11,
   "metadata": {},
   "outputs": [],
   "source": [
    "df.dropna(subset=usuario, inplace=True)\n",
    "df.reset_index(drop=True,inplace=True)"
   ]
  },
  {
   "cell_type": "code",
   "execution_count": 12,
   "metadata": {},
   "outputs": [],
   "source": [
    "df['genero'] = df['genero'].apply(lambda x: x.capitalize())"
   ]
  },
  {
   "cell_type": "markdown",
   "metadata": {},
   "source": [
    "#### Exportamos el dataset para su posterior uso en la API"
   ]
  },
  {
   "cell_type": "code",
   "execution_count": 13,
   "metadata": {},
   "outputs": [],
   "source": [
    "df.to_json(\".../Datasets/genre.json.gz\", compression='gzip')"
   ]
  }
 ],
 "metadata": {
  "kernelspec": {
   "display_name": "Python 3",
   "language": "python",
   "name": "python3"
  },
  "language_info": {
   "codemirror_mode": {
    "name": "ipython",
    "version": 3
   },
   "file_extension": ".py",
   "mimetype": "text/x-python",
   "name": "python",
   "nbconvert_exporter": "python",
   "pygments_lexer": "ipython3",
   "version": "3.11.4"
  }
 },
 "nbformat": 4,
 "nbformat_minor": 2
}
